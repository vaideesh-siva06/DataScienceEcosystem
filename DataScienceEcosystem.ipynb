{
  "metadata": {
    "kernelspec": {
      "name": "python",
      "display_name": "Python (Pyodide)",
      "language": "python"
    },
    "language_info": {
      "codemirror_mode": {
        "name": "python",
        "version": 3
      },
      "file_extension": ".py",
      "mimetype": "text/x-python",
      "name": "python",
      "nbconvert_exporter": "python",
      "pygments_lexer": "ipython3",
      "version": "3.8"
    }
  },
  "nbformat_minor": 5,
  "nbformat": 4,
  "cells": [
    {
      "id": "63f7bdc7-6c05-4598-bb92-3a28bd46c3bf",
      "cell_type": "markdown",
      "source": "# Data Science Tools and Ecosystem",
      "metadata": {}
    },
    {
      "id": "7661f181-f4bd-422b-bb38-e0b2092d73f7",
      "cell_type": "markdown",
      "source": "In this notebook, Data Science Tools and Ecosystem are summarized.",
      "metadata": {}
    },
    {
      "id": "7e4ae73a-dc86-422a-bc72-d88e56e5ef87",
      "cell_type": "markdown",
      "source": "Some of the popular languages that Data Scientists use are:\n1. Python\n2. R\n3. SQL",
      "metadata": {}
    },
    {
      "id": "6a8a0977-cd54-4b9e-9087-75b2d834192f",
      "cell_type": "markdown",
      "source": "Some of the commonly used libraries used by Data Scientists include:\n1. Matplotlib\n2. Pandas\n3. Scikit-learn",
      "metadata": {}
    },
    {
      "id": "eab7a379-1975-4a32-a860-db98b290b162",
      "cell_type": "markdown",
      "source": "|Data Science Tools|\n|---|\n| Github |\n| Jupyter Lab\n| Jupyter Notebook|",
      "metadata": {}
    },
    {
      "id": "dd14fbdf-f791-497b-b832-451128382f74",
      "cell_type": "markdown",
      "source": "### Below are a few examples of evaluating arithmetic expressions in Python.",
      "metadata": {}
    },
    {
      "id": "c8eb3a0c-94cf-4f12-91c5-dfdee293534f",
      "cell_type": "code",
      "source": "# This a simple arithmetic expression to mutiply then add integers",
      "metadata": {
        "trusted": true
      },
      "outputs": [],
      "execution_count": 7
    },
    {
      "id": "fd9b7afe-d2e6-4de4-9ffb-fe65987c56ea",
      "cell_type": "code",
      "source": "(3*4)+5",
      "metadata": {
        "trusted": true
      },
      "outputs": [
        {
          "execution_count": 8,
          "output_type": "execute_result",
          "data": {
            "text/plain": "17"
          },
          "metadata": {}
        }
      ],
      "execution_count": 8
    },
    {
      "id": "bef128dd-986d-47d2-9a34-183ea7bfa75a",
      "cell_type": "code",
      "source": "# This will convert 200 minutes to hours by diving by 60",
      "metadata": {
        "trusted": true
      },
      "outputs": [],
      "execution_count": 9
    },
    {
      "id": "cbd8410f-72d2-4e2a-aec3-d8bd4cb28f64",
      "cell_type": "code",
      "source": "200 / 60",
      "metadata": {
        "trusted": true
      },
      "outputs": [
        {
          "execution_count": 10,
          "output_type": "execute_result",
          "data": {
            "text/plain": "3.3333333333333335"
          },
          "metadata": {}
        }
      ],
      "execution_count": 10
    },
    {
      "id": "a4f5d018-fcc4-4fca-b1a4-abd9806b0a40",
      "cell_type": "markdown",
      "source": "__Objectives:__\n- List popular languages for Data Science\n- List libraries that data scientists use\n- List the data science tools for data scientists\n- Show how to conduct arithmetic expressions in Python",
      "metadata": {}
    },
    {
      "id": "b8fce4a8-8f70-4c11-973a-d324356f7a23",
      "cell_type": "markdown",
      "source": "## Author\nVaideeshwar Sivasubramanian",
      "metadata": {}
    },
    {
      "id": "56299c6c-fae7-4721-bee5-7d4df6e01e79",
      "cell_type": "code",
      "source": "",
      "metadata": {
        "trusted": true
      },
      "outputs": [],
      "execution_count": null
    }
  ]
}